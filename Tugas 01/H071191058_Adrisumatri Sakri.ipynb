{
 "cells": [
  {
   "cell_type": "code",
   "execution_count": 1,
   "id": "therapeutic-shaft",
   "metadata": {},
   "outputs": [],
   "source": [
    "import numpy as np\n",
    "import pandas as pd\n",
    "from apyori import apriori"
   ]
  },
  {
   "cell_type": "code",
   "execution_count": 7,
   "id": "established-nightmare",
   "metadata": {},
   "outputs": [
    {
     "name": "stdout",
     "output_type": "stream",
     "text": [
      "    No Play   Outlook  Temperature  Humidity  Windy\n",
      "0    1   no     sunny           85        85  False\n",
      "1    2   no     sunny           80        90   True\n",
      "2    3  yes  overcast           83        78  False\n",
      "3    4  yes      rain           70        96  False\n",
      "4    5  yes      rain           68        80  False\n",
      "5    6   no      rain           65        70   True\n",
      "6    7  yes  overcast           64        65   True\n",
      "7    8   no     sunny           72        95  False\n",
      "8    9  yes     sunny           69        70  False\n",
      "9   10  yes      rain           75        80  False\n",
      "10  11  yes     sunny           75        70   True\n",
      "11  12  yes  overcast           72        90   True\n",
      "12  13  yes  overcast           81        75  False\n",
      "13  14   no      rain           71        80   True\n"
     ]
    }
   ],
   "source": [
    "# Loading the Data\n",
    "data = pd.read_excel('Golf.xls')\n",
    "print(data)"
   ]
  },
  {
   "cell_type": "code",
   "execution_count": 8,
   "id": "encouraging-hampshire",
   "metadata": {},
   "outputs": [
    {
     "data": {
      "text/plain": [
       "Index(['No', 'Play', 'Outlook', 'Temperature', 'Humidity', 'Windy'], dtype='object')"
      ]
     },
     "execution_count": 8,
     "metadata": {},
     "output_type": "execute_result"
    }
   ],
   "source": [
    "data.columns"
   ]
  },
  {
   "cell_type": "code",
   "execution_count": 9,
   "id": "competitive-tractor",
   "metadata": {},
   "outputs": [
    {
     "data": {
      "text/plain": [
       "(14, 6)"
      ]
     },
     "execution_count": 9,
     "metadata": {},
     "output_type": "execute_result"
    }
   ],
   "source": [
    "\n",
    "# data\n",
    "\n",
    "data.shape"
   ]
  },
  {
   "cell_type": "code",
   "execution_count": 13,
   "id": "worth-boring",
   "metadata": {},
   "outputs": [],
   "source": [
    "#Convert Pandas DataFrame into a list of lists\n",
    "records = []\n",
    "for i in range(0, 14):\n",
    "    records.append([str(data.values[i,j])for j in range(0, 6)])"
   ]
  },
  {
   "cell_type": "code",
   "execution_count": 14,
   "id": "neutral-cowboy",
   "metadata": {},
   "outputs": [],
   "source": [
    "#Build the Apriori model\n",
    "\n",
    "association_rules = apriori(data, min_support=0.50, min_confidence=0.7, min_lift=1.2, min_length=2)\n",
    "association_result = list(association_rules)"
   ]
  },
  {
   "cell_type": "code",
   "execution_count": 15,
   "id": "enabling-ocean",
   "metadata": {},
   "outputs": [
    {
     "name": "stdout",
     "output_type": "stream",
     "text": [
      "1\n"
     ]
    }
   ],
   "source": [
    "print(len(association_result)) #Cetak jumlah aturan"
   ]
  },
  {
   "cell_type": "code",
   "execution_count": 16,
   "id": "artistic-bruce",
   "metadata": {},
   "outputs": [
    {
     "name": "stdout",
     "output_type": "stream",
     "text": [
      "[RelationRecord(items=frozenset({'u', 't'}), support=0.5, ordered_statistics=[OrderedStatistic(items_base=frozenset({'t'}), items_add=frozenset({'u'}), confidence=1.0, lift=2.0), OrderedStatistic(items_base=frozenset({'u'}), items_add=frozenset({'t'}), confidence=1.0, lift=2.0)])]\n"
     ]
    }
   ],
   "source": [
    "print(association_result) #Lihat aturannya"
   ]
  },
  {
   "cell_type": "code",
   "execution_count": null,
   "id": "dietary-contact",
   "metadata": {},
   "outputs": [],
   "source": []
  }
 ],
 "metadata": {
  "kernelspec": {
   "display_name": "Python 3",
   "language": "python",
   "name": "python3"
  },
  "language_info": {
   "codemirror_mode": {
    "name": "ipython",
    "version": 3
   },
   "file_extension": ".py",
   "mimetype": "text/x-python",
   "name": "python",
   "nbconvert_exporter": "python",
   "pygments_lexer": "ipython3",
   "version": "3.9.0"
  }
 },
 "nbformat": 4,
 "nbformat_minor": 5
}
